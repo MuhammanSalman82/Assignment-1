{
  "nbformat": 4,
  "nbformat_minor": 0,
  "metadata": {
    "colab": {
      "provenance": []
    },
    "kernelspec": {
      "name": "python3",
      "display_name": "Python 3"
    },
    "language_info": {
      "name": "python"
    }
  },
  "cells": [
    {
      "cell_type": "code",
      "execution_count": 4,
      "metadata": {
        "id": "IZDf9KQlBnE0",
        "colab": {
          "base_uri": "https://localhost:8080/"
        },
        "outputId": "a791d1ca-569d-4077-d2cc-ecc61c8f8cdf"
      },
      "outputs": [
        {
          "output_type": "stream",
          "name": "stdout",
          "text": [
            "<%%%> H E L L O   W O R L D <%%%>\n",
            "  ~~~PAKISTAN---ZINDA---BAD~~~\n",
            "<%%%> N E D  U N I V E R S I T Y <%%%>\n"
          ]
        }
      ],
      "source": [
        "print(\"<%%%> H E L L O   W O R L D <%%%>\\n  ~~~PAKISTAN---ZINDA---BAD~~~\\n<%%%> N E D  U N I V E R S I T Y <%%%>\")"
      ]
    }
  ]
}