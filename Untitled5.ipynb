{
  "nbformat": 4,
  "nbformat_minor": 0,
  "metadata": {
    "colab": {
      "provenance": []
    },
    "kernelspec": {
      "name": "python3",
      "display_name": "Python 3"
    },
    "language_info": {
      "name": "python"
    }
  },
  "cells": [
    {
      "cell_type": "code",
      "execution_count": 1,
      "metadata": {
        "colab": {
          "base_uri": "https://localhost:8080/"
        },
        "id": "7vhGHOihcHvH",
        "outputId": "d3c24561-fd17-47e8-ae59-5a27963f208a"
      },
      "outputs": [
        {
          "output_type": "stream",
          "name": "stdout",
          "text": [
            "Hello WOrld\n",
            "NED University\n",
            "Pakistan Zindabad\n"
          ]
        }
      ],
      "source": [
        "print(\"Hello WOrld\\nNED University\\nPakistan Zindabad\")"
      ]
    }
  ]
}